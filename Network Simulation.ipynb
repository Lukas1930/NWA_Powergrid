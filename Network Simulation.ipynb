{
 "cells": [
  {
   "cell_type": "code",
   "execution_count": null,
   "metadata": {},
   "outputs": [],
   "source": [
    "## functions:\n",
    "#calculate the workload of nodes  the betweeness of a node and set the weight to that\n",
    "#calculate the betweeness of nodes \n",
    "#delete the node with the max betweeness or random\n",
    "#keep number of connected componets and the number of nodes in the biggest component in list so that we can plot it\n",
    "#distribute the weights of the deleted node to its neighbours\n",
    "#repeat steps until the number of nodes in biggest connected component is below 50% or some other criteria\n",
    "\n"
   ]
  },
  {
   "cell_type": "code",
   "execution_count": null,
   "metadata": {},
   "outputs": [],
   "source": [
    "pagerank = nx.pagerank(G5)\n",
    "max_node = max(pagerank, key = pagerank.get)\n",
    "# key=pagerank.get is used as a custom sorting key for the max function. \n",
    "# It tells Python to use the values from the pagerank dictionary \n",
    "# (the PageRank scores) to determine the maximum value.\n",
    "\n",
    "print(f'The most central node is {max_node}, with a pagerank of {round(pagerank[max_node], 5)}')"
   ]
  },
  {
   "cell_type": "code",
   "execution_count": null,
   "metadata": {},
   "outputs": [],
   "source": []
  }
 ],
 "metadata": {
  "language_info": {
   "name": "python"
  }
 },
 "nbformat": 4,
 "nbformat_minor": 2
}
