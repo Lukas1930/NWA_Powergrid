{
 "cells": [
  {
   "cell_type": "code",
   "execution_count": 526,
   "metadata": {},
   "outputs": [],
   "source": [
    "## functions:\n",
    "#calculate the workload of nodes  the betweeness of a node and set the weight to that\n",
    "#calculate the betweeness of nodes \n",
    "#delete the node with the max betweeness or random\n",
    "#keep number of connected componets and the number of nodes in the biggest component in list so that we can plot it\n",
    "#distribute the weights of the deleted node to its neighbours\n",
    "#repeat steps until the number of nodes in biggest connected component is below 50% or some other criteria\n",
    "\n"
   ]
  },
  {
   "cell_type": "code",
   "execution_count": 527,
   "metadata": {},
   "outputs": [],
   "source": [
    "import pandas as pd\n",
    "import networkx as nx\n",
    "from collections import Counter\n",
    "import matplotlib.pyplot as plt\n",
    "import numpy as np\n",
    "import powerlaw as pl\n",
    "\n",
    "#Loading the data\n",
    "G=nx.read_gml('power.gml', label='id')\n"
   ]
  },
  {
   "cell_type": "code",
   "execution_count": 528,
   "metadata": {},
   "outputs": [],
   "source": [
    "##We calculate the betweeness centrality of nodes and set the weights accordig to the most important ones\n",
    "pagerank = nx.pagerank(G)\n",
    "p_arr = np.array([pagerank[v] for v in G.nodes])\n",
    "workload=p_arr\n",
    "max_work=workload*1.9\n",
    "## when max_work is set to 1.5 6 nodes get deleted on the first deletion and when set to 2 non of the nodes get overloaded"
   ]
  },
  {
   "cell_type": "code",
   "execution_count": 529,
   "metadata": {},
   "outputs": [],
   "source": [
    "##The over_load function deletes the overloaded node and checks for other overloaded nodes\n",
    "def over_load(node):\n",
    "    #print(node)\n",
    "    neighbors_list = list(nx.neighbors(G, node))\n",
    "    extra_weight=workload[node]/len(neighbors_list)\n",
    "    workload[node]=0\n",
    "    G.remove_node(node)\n",
    "    for nodes in neighbors_list:\n",
    "        workload[nodes]=workload[nodes]+extra_weight\n",
    "        if workload[nodes]>max_work[nodes]:\n",
    "            if nodes in G:\n",
    "                over_load(nodes)\n",
    "        \n"
   ]
  },
  {
   "cell_type": "code",
   "execution_count": 530,
   "metadata": {},
   "outputs": [],
   "source": [
    "def max_delete():\n",
    "    ##k=len(G.nodes())\n",
    "    #We find the node with highest centrality(the one we are going to delete)\n",
    "    pagerank = nx.pagerank(G)\n",
    "    #print(pagerank)\n",
    "    max_node = max(pagerank, key = pagerank.get)\n",
    "\n",
    "\n",
    "    #We find the nodes neighbors to which we ll distribute the deleted nodes workload\n",
    "    over_load(max_node)\n",
    "\n",
    "\n",
    "\n",
    "\n",
    "\n",
    "    "
   ]
  },
  {
   "cell_type": "code",
   "execution_count": 531,
   "metadata": {},
   "outputs": [],
   "source": [
    "##node_delete()"
   ]
  },
  {
   "cell_type": "code",
   "execution_count": 532,
   "metadata": {},
   "outputs": [
    {
     "name": "stderr",
     "output_type": "stream",
     "text": [
      "C:\\Users\\luka1\\AppData\\Local\\Temp\\ipykernel_3384\\59335632.py:5: RuntimeWarning: divide by zero encountered in double_scalars\n",
      "  extra_weight=workload[node]/len(neighbors_list)\n"
     ]
    }
   ],
   "source": [
    "colapse_nr_of_nodes=len(G.nodes())/2\n",
    "n_components=[]\n",
    "n_nodes=[]\n",
    "def plotting():\n",
    "    x=nx.number_connected_components(G)\n",
    "    n_components.append(x)\n",
    "    Gcc = sorted(nx.connected_components(G), key=len, reverse=True)\n",
    "    G0 = G.subgraph(Gcc[0])\n",
    "    y=G0.number_of_nodes()\n",
    "    n_nodes.append(y)\n",
    "    max_delete()\n",
    "\n",
    "n=[]\n",
    "for i in range(1000):\n",
    "    plotting()\n",
    "    n.append(i)\n",
    "    if len(G.nodes())!= 0:\n",
    "        if n_nodes[i]>colapse_nr_of_nodes:\n",
    "            z=i\n",
    "    else:\n",
    "        print(\"The graph collapsed after \",i,'the biggest connected component had less then 50% of nodes after',z)\n",
    "        break\n",
    "\n",
    "\n",
    "plt.plot(n,n_components)\n",
    "plt.plot(n,n_nodes)\n",
    "\n",
    "    "
   ]
  }
 ],
 "metadata": {
  "kernelspec": {
   "display_name": "base",
   "language": "python",
   "name": "python3"
  },
  "language_info": {
   "codemirror_mode": {
    "name": "ipython",
    "version": 3
   },
   "file_extension": ".py",
   "mimetype": "text/x-python",
   "name": "python",
   "nbconvert_exporter": "python",
   "pygments_lexer": "ipython3",
   "version": "3.9.12"
  }
 },
 "nbformat": 4,
 "nbformat_minor": 2
}
