{
 "cells": [
  {
   "cell_type": "code",
   "execution_count": 179,
   "metadata": {},
   "outputs": [],
   "source": [
    "## functions:\n",
    "#calculate the workload of nodes  the betweeness of a node and set the weight to that\n",
    "#calculate the betweeness of nodes \n",
    "#delete the node with the max betweeness or random\n",
    "#keep number of connected componets and the number of nodes in the biggest component in list so that we can plot it\n",
    "#distribute the weights of the deleted node to its neighbours\n",
    "#repeat steps until the number of nodes in biggest connected component is below 50% or some other criteria\n",
    "\n"
   ]
  },
  {
   "cell_type": "code",
   "execution_count": 180,
   "metadata": {},
   "outputs": [],
   "source": [
    "import pandas as pd\n",
    "import networkx as nx\n",
    "from collections import Counter\n",
    "import matplotlib.pyplot as plt\n",
    "import numpy as np\n",
    "import powerlaw as pl\n",
    "import random"
   ]
  },
  {
   "cell_type": "code",
   "execution_count": 181,
   "metadata": {},
   "outputs": [],
   "source": [
    "#Loading the data\n",
    "G=nx.read_gml('power.gml', label='id')\n",
    "\n",
    "#some parameters\n",
    "Change = 50\n",
    "Max_workload_P = 2"
   ]
  },
  {
   "cell_type": "code",
   "execution_count": 182,
   "metadata": {},
   "outputs": [],
   "source": [
    "##We calculate the Pagetank which we base the initial workload and max work on \n",
    "pagerank = nx.pagerank(G)\n",
    "p_arr = np.array([pagerank[v] for v in G.nodes])\n",
    "removed_nodes = []\n",
    "workload=p_arr\n",
    "max_work=workload*Max_workload_P"
   ]
  },
  {
   "cell_type": "code",
   "execution_count": 183,
   "metadata": {},
   "outputs": [],
   "source": [
    "##Delete func, also checks for overloads after deleting and distributing the workload\n",
    "def del_node(node):\n",
    "    neighbors_list = list(nx.neighbors(G, node))\n",
    "    extra_weight=workload[node]/len(neighbors_list)\n",
    "    workload[node]=0\n",
    "    removed_nodes.append([node,neighbors_list])\n",
    "    G.remove_node(node)\n",
    "    for nodes in neighbors_list:\n",
    "        workload[nodes]=workload[nodes]+extra_weight\n",
    "        if workload[nodes]>max_work[nodes]:\n",
    "            if nodes in G:\n",
    "                del_node(nodes)"
   ]
  },
  {
   "cell_type": "code",
   "execution_count": 184,
   "metadata": {},
   "outputs": [],
   "source": [
    "#We find the node with highest pagerank and delete it. pagerank recalculated each time\n",
    "def max_node():\n",
    "    pagerank = nx.pagerank(G)\n",
    "    max_node = max(pagerank, key = pagerank.get)\n",
    "    del_node(max_node)\n",
    "\n",
    "    #an intersting thing could be just go after the ones with the biggest max workloads\n",
    "    #So go after the initial pagerank instead of recalculating each time, to compare and see if it gives a different result"
   ]
  },
  {
   "cell_type": "code",
   "execution_count": 185,
   "metadata": {},
   "outputs": [],
   "source": [
    "#chooses a random node to delete\n",
    "def random_node():\n",
    "    r_node = random.choice(list(G.nodes))\n",
    "    del_node(r_node)"
   ]
  },
  {
   "cell_type": "code",
   "execution_count": 186,
   "metadata": {},
   "outputs": [],
   "source": [
    "#with a % change to add a random deleted note back in to the network. takes workload from its neighbors \n",
    "def rebuild(change):\n",
    "    if removed_nodes != []:\n",
    "        R = random.randrange(0,100,1)\n",
    "        if R <= change:\n",
    "            node, neighbors = random.choice(removed_nodes)\n",
    "            G.add_node(node)\n",
    "            for nodes in neighbors:\n",
    "                if nodes in G:\n",
    "                    G.add_edge(node, nodes)\n",
    "                    E_work = workload[nodes]/len(neighbors)\n",
    "                    workload[nodes] -= E_work\n",
    "                    workload[node] += E_work\n",
    "            if workload[node] > max_work[node]:\n",
    "                del_node(node)\n",
    "            #max_work[node] = workload[node]*Max_workload_P             #calculate a new max load based on its new initial workload"
   ]
  },
  {
   "cell_type": "code",
   "execution_count": 187,
   "metadata": {},
   "outputs": [
    {
     "name": "stderr",
     "output_type": "stream",
     "text": [
      "C:\\Users\\luka1\\AppData\\Local\\Temp\\ipykernel_3720\\1869411917.py:4: RuntimeWarning: divide by zero encountered in double_scalars\n",
      "  extra_weight=workload[node]/len(neighbors_list)\n"
     ]
    },
    {
     "data": {
      "text/plain": [
       "[<matplotlib.lines.Line2D at 0x1c7e2b036d0>]"
      ]
     },
     "execution_count": 187,
     "metadata": {},
     "output_type": "execute_result"
    },
    {
     "data": {
      "image/png": "[encoded data removed]",
      "text/plain": [
       "<Figure size 432x288 with 1 Axes>"
      ]
     },
     "metadata": {
      "needs_background": "light"
     },
     "output_type": "display_data"
    }
   ],
   "source": [
    "colapse_nr_of_nodes=len(G.nodes())/2\n",
    "n_components=[]\n",
    "n_nodes=[]\n",
    "def plotting():\n",
    "    x=nx.number_connected_components(G)\n",
    "    n_components.append(x)\n",
    "    Gcc = sorted(nx.connected_components(G), key=len, reverse=True)\n",
    "    G0 = G.subgraph(Gcc[0])\n",
    "    y=G0.number_of_nodes()\n",
    "    n_nodes.append(y)\n",
    "    rebuild(Change)\n",
    "    max_node()\n",
    "\n",
    "n=[]\n",
    "for i in range(700):\n",
    "    plotting()\n",
    "    n.append(i)\n",
    "    if len(G.nodes())!= 0:\n",
    "        if n_nodes[i]>colapse_nr_of_nodes:\n",
    "            z=i\n",
    "    else:\n",
    "        print(\"The graph collapsed after \",i,'the biggest connected component had less then 50% of nodes after',z)\n",
    "        break\n",
    "\n",
    "plt.plot(n,n_components)\n",
    "plt.plot(n,n_nodes)"
   ]
  }
 ],
 "metadata": {
  "kernelspec": {
   "display_name": "base",
   "language": "python",
   "name": "python3"
  },
  "language_info": {
   "codemirror_mode": {
    "name": "ipython",
    "version": 3
   },
   "file_extension": ".py",
   "mimetype": "text/x-python",
   "name": "python",
   "nbconvert_exporter": "python",
   "pygments_lexer": "ipython3",
   "version": "3.9.12"
  }
 },
 "nbformat": 4,
 "nbformat_minor": 2
}
