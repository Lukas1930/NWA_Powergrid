{
 "cells": [
  {
   "cell_type": "code",
   "execution_count": null,
   "metadata": {},
   "outputs": [],
   "source": [
    "## functions:\n",
    "#calculate the workload of nodes  the betweeness of a node and set the weight to that\n",
    "#calculate the betweeness of nodes \n",
    "#delete the node with the max betweeness or random\n",
    "#keep number of connected componets and the number of nodes in the biggest component in list so that we can plot it\n",
    "#distribute the weights of the deleted node to its neighbours\n",
    "#repeat steps until the number of nodes in biggest connected component is below 50% or some other criteria\n",
    "\n"
   ]
  },
  {
   "cell_type": "code",
   "execution_count": 60,
   "metadata": {},
   "outputs": [],
   "source": [
    "import pandas as pd\n",
    "import networkx as nx\n",
    "from collections import Counter\n",
    "import matplotlib.pyplot as plt\n",
    "import numpy as np\n",
    "import powerlaw as pl\n",
    "\n",
    "#Loading the data\n",
    "G=nx.read_gml('power.gml', label='id')\n"
   ]
  },
  {
   "cell_type": "code",
   "execution_count": 61,
   "metadata": {},
   "outputs": [],
   "source": [
    "##We calculate the betweeness centrality of nodes and set the weights accordig to the most important ones\n",
    "pagerank = nx.pagerank(G)\n",
    "p_arr = np.array([pagerank[v] for v in G.nodes])\n",
    "workload=p_arr"
   ]
  },
  {
   "cell_type": "code",
   "execution_count": 67,
   "metadata": {},
   "outputs": [
    {
     "name": "stdout",
     "output_type": "stream",
     "text": [
      "The node we ll delete: 2575\n",
      "Extra weight:  6.312587978752562e-05\n"
     ]
    }
   ],
   "source": [
    "def node_delete():\n",
    "    #We find the node with highest centrality(the one we are going to delete)\n",
    "    pagerank = nx.pagerank(G)\n",
    "    max_node = max(pagerank, key = pagerank.get)\n",
    "\n",
    "    print('The node we ll delete:',max_node)\n",
    "\n",
    "    #We find the nodes neighbors to which we ll distribute the deleted nodes workload\n",
    "    neighbors_list = list(nx.neighbors(G, max_node))\n",
    "    extra_weight=workload[max_node]/len(neighbors_list)\n",
    "\n",
    "    print('Extra weight: ',extra_weight)\n",
    "\n",
    "    for node in neighbors_list:\n",
    "        workload[node]=workload[node]+extra_weight\n",
    "\n",
    "    ##Set the workload of the deleted node to 0\n",
    "    workload[max_node]=0\n",
    "\n",
    "    ##Delete the node\n",
    "    G.remove_node(max_node)\n",
    "\n",
    "node_delete()\n",
    "\n",
    "\n",
    "    "
   ]
  }
 ],
 "metadata": {
  "kernelspec": {
   "display_name": "base",
   "language": "python",
   "name": "python3"
  },
  "language_info": {
   "codemirror_mode": {
    "name": "ipython",
    "version": 3
   },
   "file_extension": ".py",
   "mimetype": "text/x-python",
   "name": "python",
   "nbconvert_exporter": "python",
   "pygments_lexer": "ipython3",
   "version": "3.9.12"
  }
 },
 "nbformat": 4,
 "nbformat_minor": 2
}
