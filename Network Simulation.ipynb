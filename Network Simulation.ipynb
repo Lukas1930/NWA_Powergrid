{
 "cells": [
  {
   "cell_type": "code",
   "execution_count": 149,
   "metadata": {},
   "outputs": [],
   "source": [
    "## functions:\n",
    "#calculate the workload of nodes  the betweeness of a node and set the weight to that\n",
    "#calculate the betweeness of nodes \n",
    "#delete the node with the max betweeness or random\n",
    "#keep number of connected componets and the number of nodes in the biggest component in list so that we can plot it\n",
    "#distribute the weights of the deleted node to its neighbours\n",
    "#repeat steps until the number of nodes in biggest connected component is below 50% or some other criteria\n",
    "\n"
   ]
  },
  {
   "cell_type": "code",
   "execution_count": 150,
   "metadata": {},
   "outputs": [],
   "source": [
    "import pandas as pd\n",
    "import networkx as nx\n",
    "from collections import Counter\n",
    "import matplotlib.pyplot as plt\n",
    "import numpy as np\n",
    "import powerlaw as pl\n",
    "\n",
    "#Loading the data\n",
    "G=nx.read_gml('power.gml', label='id')\n"
   ]
  },
  {
   "cell_type": "code",
   "execution_count": 151,
   "metadata": {},
   "outputs": [],
   "source": [
    "##We calculate the betweeness centrality of nodes and set the weights accordig to the most important ones\n",
    "pagerank = nx.pagerank(G)\n",
    "p_arr = np.array([pagerank[v] for v in G.nodes])\n",
    "workload=p_arr\n",
    "max_work=workload*1.25\n",
    "## when max_work is set to 1.5 6 nodes get deleted on the first deletion and when set to 2 non of the nodes get overloaded"
   ]
  },
  {
   "cell_type": "code",
   "execution_count": 152,
   "metadata": {},
   "outputs": [],
   "source": [
    "def node_delete():\n",
    "    ##k=len(G.nodes())\n",
    "    #We find the node with highest centrality(the one we are going to delete)\n",
    "    pagerank = nx.pagerank(G)\n",
    "    max_node = max(pagerank, key = pagerank.get)\n",
    "\n",
    "    #We find the nodes neighbors to which we ll distribute the deleted nodes workload\n",
    "    neighbors_list = list(nx.neighbors(G, max_node))\n",
    "    extra_weight=workload[max_node]/len(neighbors_list)\n",
    "    ##Delete the chosen node\n",
    "    G.remove_node(max_node)\n",
    "    ## check for overloaded neighbours and delete if overloaded\n",
    "    for node in neighbors_list:\n",
    "        workload[node]=workload[node]+extra_weight\n",
    "        if workload[node]>max_work[node]:\n",
    "            over_load(node)\n",
    "        else:\n",
    "            pass\n",
    "\n",
    "    ##Set the workload of the deleted node to 0\n",
    "    workload[max_node]=0\n",
    "    \n",
    "    ##Checking the deleted nodes and number of nodes deleted whether its correct \n",
    "    ##number=k-len(G.nodes())\n",
    "    ##print('Deleted node',max_node,number)\n",
    "\n",
    "\n",
    "\n",
    "    "
   ]
  },
  {
   "cell_type": "code",
   "execution_count": 153,
   "metadata": {},
   "outputs": [],
   "source": [
    "##The over_load function deletes the overloaded node and checks for other overloaded nodes\n",
    "def over_load(node):\n",
    "    neighbors_list = list(nx.neighbors(G, node))\n",
    "    extra_weight=workload[node]/len(neighbors_list)\n",
    "    workload[node]=0\n",
    "    G.remove_node(node)\n",
    "    for nodes in neighbors_list:\n",
    "        workload[nodes]=workload[nodes]+extra_weight\n",
    "        if workload[node]>max_work[node]:\n",
    "                over_load(node)\n",
    "        else:\n",
    "             pass\n",
    "        \n",
    "    ##print('Overloaded:',node)\n"
   ]
  },
  {
   "cell_type": "code",
   "execution_count": 154,
   "metadata": {},
   "outputs": [],
   "source": [
    "##node_delete()"
   ]
  },
  {
   "cell_type": "code",
   "execution_count": 155,
   "metadata": {},
   "outputs": [
    {
     "name": "stderr",
     "output_type": "stream",
     "text": [
      "C:\\Users\\kubic\\AppData\\Local\\Temp\\ipykernel_10688\\386499495.py:4: RuntimeWarning: divide by zero encountered in scalar divide\n",
      "  extra_weight=workload[node]/len(neighbors_list)\n",
      "C:\\Users\\kubic\\AppData\\Local\\Temp\\ipykernel_10688\\994169257.py:9: RuntimeWarning: divide by zero encountered in scalar divide\n",
      "  extra_weight=workload[max_node]/len(neighbors_list)\n"
     ]
    },
    {
     "name": "stdout",
     "output_type": "stream",
     "text": [
      "The graph collapsed after  1647 the biggest connected component had less then 50% of nodes after 128\n"
     ]
    },
    {
     "data": {
      "text/plain": [
       "[<matplotlib.lines.Line2D at 0x26803c745b0>]"
      ]
     },
     "execution_count": 155,
     "metadata": {},
     "output_type": "execute_result"
    },
    {
     "data": {
      "image/png": "[encoded data removed]",
      "text/plain": [
       "<Figure size 432x288 with 1 Axes>"
      ]
     },
     "metadata": {
      "needs_background": "light"
     },
     "output_type": "display_data"
    }
   ],
   "source": [
    "colapse_nr_of_nodes=len(G.nodes())/2\n",
    "n_components=[]\n",
    "n_nodes=[]\n",
    "def plotting():\n",
    "    x=nx.number_connected_components(G)\n",
    "    n_components.append(x)\n",
    "    Gcc = sorted(nx.connected_components(G), key=len, reverse=True)\n",
    "    G0 = G.subgraph(Gcc[0])\n",
    "    y=G0.number_of_nodes()\n",
    "    n_nodes.append(y)\n",
    "    node_delete()\n",
    "\n",
    "n=[]\n",
    "for i in range(10000):\n",
    "    plotting()\n",
    "    n.append(i)\n",
    "    if len(G.nodes())!= 0:\n",
    "        if n_nodes[i]>colapse_nr_of_nodes:\n",
    "            z=i\n",
    "    else:\n",
    "        print(\"The graph collapsed after \",i,'the biggest connected component had less then 50% of nodes after',z)\n",
    "        break\n",
    "\n",
    "\n",
    "plt.plot(n,n_components)\n",
    "plt.plot(n,n_nodes)\n",
    "\n",
    "    "
   ]
  }
 ],
 "metadata": {
  "kernelspec": {
   "display_name": "base",
   "language": "python",
   "name": "python3"
  },
  "language_info": {
   "codemirror_mode": {
    "name": "ipython",
    "version": 3
   },
   "file_extension": ".py",
   "mimetype": "text/x-python",
   "name": "python",
   "nbconvert_exporter": "python",
   "pygments_lexer": "ipython3",
   "version": "3.9.12"
  }
 },
 "nbformat": 4,
 "nbformat_minor": 2
}
